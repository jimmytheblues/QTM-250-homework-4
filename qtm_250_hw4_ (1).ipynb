{
  "nbformat": 4,
  "nbformat_minor": 0,
  "metadata": {
    "colab": {
      "name": "qtm 250 hw4 .ipynb",
      "provenance": [],
      "collapsed_sections": [],
      "toc_visible": true
    },
    "kernelspec": {
      "name": "python3",
      "display_name": "Python 3"
    },
    "language_info": {
      "name": "python"
    }
  },
  "cells": [
    {
      "cell_type": "markdown",
      "source": [
        "#How does iphone photo editing tools influence the scoring of by the cloud vision API"
      ],
      "metadata": {
        "id": "X0ZbgYwQ4iC5"
      }
    },
    {
      "cell_type": "markdown",
      "source": [
        "## Introduction\n",
        "\n",
        "Nowadays, as the development of photo editing technology, many people have started to use different electronic devices to edit their photos. Among those, due to the large number of users of iphone, many people choose to use iphone photo editing tools to modify their photos. As people try to use these tools to make photos look more appealing, different people may emphasize on different aspects when editing.\n",
        "\n",
        "This project tries to figure out the relationship between the relationship between iphone picture editing technology and the score rated by the cloud vision API. Since the cloud vision API could give a confidence score after analyzing the picture being uploaded, we can use edited and non-edited versions of the same picture for analysis to see if the \"photoshop\" techiniques performed by iphone could affect cloud vision API's judgement of the \"realness\" of a picture by looking at the change in the confidence score. "
      ],
      "metadata": {
        "id": "iBlJlq2ya-EF"
      }
    },
    {
      "cell_type": "markdown",
      "source": [
        "## Methods\n",
        "\n",
        "The API call was first made. The google cloud vision API must first be enabled for analyze. In API console, credential is created through the \"create credential\" option on the google cloud platform. The new bucket was then created and named as \"image-recognition-bucket999\". All picture files are uploaded to the bucket and being analyzed. \n",
        "\n",
        "The picture file analysis was carried out at the label detection quick start link: https://cloud.google.com/vision/docs/detect-labels-image-api. We used cars with different colors for the analysis of the wheel and tire confidence score for the same picture before and after photo editing on iphone. All picutres were edited on iphone 13pro, adjusting each original photo's saturation and vibrance from 0 to 50 to see the difference between the confidence score of the same picture. The codes required for the analysis are listed below. \n",
        "\n"
      ],
      "metadata": {
        "id": "XBcwN70I4Fdb"
      }
    },
    {
      "cell_type": "code",
      "source": [
        "import getpass\n",
        "\n",
        "APIKEY = getpass.getpass()"
      ],
      "metadata": {
        "colab": {
          "base_uri": "https://localhost:8080/"
        },
        "id": "gMlZpY9dQeUT",
        "outputId": "9295a0ab-b1bd-415b-b349-ecc105eb5708"
      },
      "execution_count": null,
      "outputs": [
        {
          "name": "stdout",
          "output_type": "stream",
          "text": [
            "··········\n"
          ]
        }
      ]
    },
    {
      "cell_type": "code",
      "source": [
        "APIKEY"
      ],
      "metadata": {
        "colab": {
          "base_uri": "https://localhost:8080/",
          "height": 35
        },
        "id": "BrMaypCqQh1p",
        "outputId": "ad5e903b-7d4d-4dbe-9e05-19937691de53"
      },
      "execution_count": null,
      "outputs": [
        {
          "output_type": "execute_result",
          "data": {
            "text/plain": [
              "'import getpass  APIKEY = getpass.getpass()'"
            ],
            "application/vnd.google.colaboratory.intrinsic+json": {
              "type": "string"
            }
          },
          "metadata": {},
          "execution_count": 2
        }
      ]
    },
    {
      "cell_type": "markdown",
      "source": [
        "###Red car photos"
      ],
      "metadata": {
        "id": "1oVE8-pfBrnq"
      }
    },
    {
      "cell_type": "code",
      "source": [
        "# Running Vision API \n",
        "{\n",
        "  \"requests\": [\n",
        "    {\n",
        "      \"features\": [\n",
        "        {\n",
        "          \"type\": \"LABEL_DETECTION\"\n",
        "        }\n",
        "      ],\n",
        "      \"image\": {\n",
        "        \"source\": {\n",
        "          \"imageUri\": \"gs://image-recognition-bucket999/redcar1.jpeg\"\n",
        "        }\n",
        "      }\n",
        "    }\n",
        "  ]\n",
        "}"
      ],
      "metadata": {
        "id": "yPSXc_0jUmZE"
      },
      "execution_count": null,
      "outputs": []
    },
    {
      "cell_type": "code",
      "source": [
        "# Running Vision API \n",
        "{\n",
        "  \"requests\": [\n",
        "    {\n",
        "      \"features\": [\n",
        "        {\n",
        "          \"type\": \"LABEL_DETECTION\"\n",
        "        }\n",
        "      ],\n",
        "      \"image\": {\n",
        "        \"source\": {\n",
        "          \"imageUri\": \"gs://image-recognition-bucket999/redcar1_edited.jpeg\"\n",
        "        }\n",
        "      }\n",
        "    }\n",
        "  ]\n",
        "}"
      ],
      "metadata": {
        "colab": {
          "base_uri": "https://localhost:8080/"
        },
        "id": "OqbDwFtr9yqY",
        "outputId": "d90d01fc-aec9-4b8f-b819-09e0e661956a"
      },
      "execution_count": null,
      "outputs": [
        {
          "output_type": "execute_result",
          "data": {
            "text/plain": [
              "{'requests': [{'features': [{'type': 'LABEL_DETECTION'}],\n",
              "   'image': {'source': {'imageUri': 'gs://image-recognition-bucket999/redcar1_edited.jpeg'}}}]}"
            ]
          },
          "metadata": {},
          "execution_count": 5
        }
      ]
    },
    {
      "cell_type": "markdown",
      "source": [
        "###Blue car photos"
      ],
      "metadata": {
        "id": "pokh9Sa8Bv8y"
      }
    },
    {
      "cell_type": "code",
      "source": [
        "# Running Vision API \n",
        "{\n",
        "  \"requests\": [\n",
        "    {\n",
        "      \"features\": [\n",
        "        {\n",
        "          \"type\": \"LABEL_DETECTION\"\n",
        "        }\n",
        "      ],\n",
        "      \"image\": {\n",
        "        \"source\": {\n",
        "          \"imageUri\": \"gs://image-recognition-bucket999/bluecar1.png\"\n",
        "        }\n",
        "      }\n",
        "    }\n",
        "  ]\n",
        "}"
      ],
      "metadata": {
        "colab": {
          "base_uri": "https://localhost:8080/"
        },
        "id": "uwQ4qELq92O8",
        "outputId": "24153a71-3d91-4c9d-861d-3eb9bebe6578"
      },
      "execution_count": null,
      "outputs": [
        {
          "output_type": "execute_result",
          "data": {
            "text/plain": [
              "{'requests': [{'features': [{'type': 'LABEL_DETECTION'}],\n",
              "   'image': {'source': {'imageUri': 'gs://image-recognition-bucket999/bluecar1.png'}}}]}"
            ]
          },
          "metadata": {},
          "execution_count": 6
        }
      ]
    },
    {
      "cell_type": "code",
      "source": [
        "# Running Vision API \n",
        "{\n",
        "  \"requests\": [\n",
        "    {\n",
        "      \"features\": [\n",
        "        {\n",
        "          \"type\": \"LABEL_DETECTION\"\n",
        "        }\n",
        "      ],\n",
        "      \"image\": {\n",
        "        \"source\": {\n",
        "          \"imageUri\": \"gs://image-recognition-bucket999/bluecar1_edited.jpeg\"\n",
        "        }\n",
        "      }\n",
        "    }\n",
        "  ]\n",
        "}"
      ],
      "metadata": {
        "colab": {
          "base_uri": "https://localhost:8080/"
        },
        "id": "gPAqaRCm96lF",
        "outputId": "91b8b7a7-a060-4505-f233-2520fdc1b7ef"
      },
      "execution_count": null,
      "outputs": [
        {
          "output_type": "execute_result",
          "data": {
            "text/plain": [
              "{'requests': [{'features': [{'type': 'LABEL_DETECTION'}],\n",
              "   'image': {'source': {'imageUri': 'gs://image-recognition-bucket999/bluecar1_edited.jpeg'}}}]}"
            ]
          },
          "metadata": {},
          "execution_count": 7
        }
      ]
    },
    {
      "cell_type": "markdown",
      "source": [
        "###White car photo"
      ],
      "metadata": {
        "id": "hSp3nuI2B4Rz"
      }
    },
    {
      "cell_type": "code",
      "source": [
        "# Running Vision API \n",
        "{\n",
        "  \"requests\": [\n",
        "    {\n",
        "      \"features\": [\n",
        "        {\n",
        "          \"type\": \"LABEL_DETECTION\"\n",
        "        }\n",
        "      ],\n",
        "      \"image\": {\n",
        "        \"source\": {\n",
        "          \"imageUri\": \"gs://image-recognition-bucket999/whitecar1.jpeg\"\n",
        "        }\n",
        "      }\n",
        "    }\n",
        "  ]\n",
        "}"
      ],
      "metadata": {
        "id": "6nK2j-DGBjCJ"
      },
      "execution_count": null,
      "outputs": []
    },
    {
      "cell_type": "code",
      "source": [
        "# Running Vision API \n",
        "{\n",
        "  \"requests\": [\n",
        "    {\n",
        "      \"features\": [\n",
        "        {\n",
        "          \"type\": \"LABEL_DETECTION\"\n",
        "        }\n",
        "      ],\n",
        "      \"image\": {\n",
        "        \"source\": {\n",
        "          \"imageUri\": \"gs://image-recognition-bucket999/whitecar1_edited.jpeg\"\n",
        "        }\n",
        "      }\n",
        "    }\n",
        "  ]\n",
        "}"
      ],
      "metadata": {
        "id": "ag7a02pHBnBz"
      },
      "execution_count": null,
      "outputs": []
    },
    {
      "cell_type": "markdown",
      "source": [
        "###Black car photo"
      ],
      "metadata": {
        "id": "NGG3Bz1PB9qu"
      }
    },
    {
      "cell_type": "code",
      "source": [
        "# Running Vision API \n",
        "{\n",
        "  \"requests\": [\n",
        "    {\n",
        "      \"features\": [\n",
        "        {\n",
        "          \"type\": \"LABEL_DETECTION\"\n",
        "        }\n",
        "      ],\n",
        "      \"image\": {\n",
        "        \"source\": {\n",
        "          \"imageUri\": \"gs://image-recognition-bucket999/blackcar1.png\"\n",
        "        }\n",
        "      }\n",
        "    }\n",
        "  ]\n",
        "}"
      ],
      "metadata": {
        "colab": {
          "base_uri": "https://localhost:8080/"
        },
        "id": "fJ60kEa_B7eC",
        "outputId": "19a88262-0620-41d5-8d81-0afbacefb622"
      },
      "execution_count": null,
      "outputs": [
        {
          "output_type": "execute_result",
          "data": {
            "text/plain": [
              "{'requests': [{'features': [{'type': 'LABEL_DETECTION'}],\n",
              "   'image': {'source': {'imageUri': 'gs://image-recognition-bucket999/blackcar1.png'}}}]}"
            ]
          },
          "metadata": {},
          "execution_count": 8
        }
      ]
    },
    {
      "cell_type": "code",
      "source": [
        "# Running Vision API \n",
        "{\n",
        "  \"requests\": [\n",
        "    {\n",
        "      \"features\": [\n",
        "        {\n",
        "          \"type\": \"LABEL_DETECTION\"\n",
        "        }\n",
        "      ],\n",
        "      \"image\": {\n",
        "        \"source\": {\n",
        "          \"imageUri\": \"gs://image-recognition-bucket999/blackcar1_edited.jpeg\"\n",
        "        }\n",
        "      }\n",
        "    }\n",
        "  ]\n",
        "}"
      ],
      "metadata": {
        "colab": {
          "base_uri": "https://localhost:8080/"
        },
        "id": "oq3cvgv_CSHy",
        "outputId": "fc47f400-9c0b-4b4e-f2b0-2b95e45b3195"
      },
      "execution_count": null,
      "outputs": [
        {
          "output_type": "execute_result",
          "data": {
            "text/plain": [
              "{'requests': [{'features': [{'type': 'LABEL_DETECTION'}],\n",
              "   'image': {'source': {'imageUri': 'gs://image-recognition-bucket999/blackcar1_edited.jpeg'}}}]}"
            ]
          },
          "metadata": {},
          "execution_count": 9
        }
      ]
    },
    {
      "cell_type": "markdown",
      "source": [
        "### Yellow car photo"
      ],
      "metadata": {
        "id": "H0Js2Ptyou8q"
      }
    },
    {
      "cell_type": "code",
      "source": [
        "# Running Vision API \n",
        "{\n",
        "  \"requests\": [\n",
        "    {\n",
        "      \"features\": [\n",
        "        {\n",
        "          \"type\": \"LABEL_DETECTION\"\n",
        "        }\n",
        "      ],\n",
        "      \"image\": {\n",
        "        \"source\": {\n",
        "          \"imageUri\": \"gs://image-recognition-bucket999/yellowcar1.png\"\n",
        "        }\n",
        "      }\n",
        "    }\n",
        "  ]\n",
        "}"
      ],
      "metadata": {
        "colab": {
          "base_uri": "https://localhost:8080/"
        },
        "id": "FEdmFmdHEQu7",
        "outputId": "b862187a-76d1-42ce-bfbe-04a62fdccdaf"
      },
      "execution_count": null,
      "outputs": [
        {
          "output_type": "execute_result",
          "data": {
            "text/plain": [
              "{'requests': [{'features': [{'type': 'LABEL_DETECTION'}],\n",
              "   'image': {'source': {'imageUri': 'gs://image-recognition-bucket999/yellowcar1.png'}}}]}"
            ]
          },
          "metadata": {},
          "execution_count": 10
        }
      ]
    },
    {
      "cell_type": "code",
      "source": [
        "# Running Vision API \n",
        "{\n",
        "  \"requests\": [\n",
        "    {\n",
        "      \"features\": [\n",
        "        {\n",
        "          \"type\": \"LABEL_DETECTION\"\n",
        "        }\n",
        "      ],\n",
        "      \"image\": {\n",
        "        \"source\": {\n",
        "          \"imageUri\": \"gs://image-recognition-bucket999/yellowcar1_edited.jpeg\"\n",
        "        }\n",
        "      }\n",
        "    }\n",
        "  ]\n",
        "}"
      ],
      "metadata": {
        "colab": {
          "base_uri": "https://localhost:8080/"
        },
        "id": "RZn2lfwhEWGC",
        "outputId": "1d940c3c-f2e5-4eb4-b0e8-2705cae81351"
      },
      "execution_count": null,
      "outputs": [
        {
          "output_type": "execute_result",
          "data": {
            "text/plain": [
              "{'requests': [{'features': [{'type': 'LABEL_DETECTION'}],\n",
              "   'image': {'source': {'imageUri': 'gs://image-recognition-bucket999/yellowcar1_edited.jpeg'}}}]}"
            ]
          },
          "metadata": {},
          "execution_count": 11
        }
      ]
    },
    {
      "cell_type": "markdown",
      "source": [
        "### Photos and data\n",
        "All photos are uploaded to the github link in the \"hw4 photo\" file."
      ],
      "metadata": {
        "id": "iM44binazbG5"
      }
    },
    {
      "cell_type": "markdown",
      "source": [
        "The process of the study is embedded in the following graph. The link to the google sheets is listed: https://docs.google.com/spreadsheets/d/18d4aBPMKRhcBi71nYFnzAHG70zphdzZlxrIeTo7OkKw/edit?usp=sharing\n",
        "\n",
        "The visualization of the tools used in this project is listed below.\n",
        "\n",
        "![Data Visualization Example](https://github.com/jimmytheblues/QTM-250-homework-4/blob/main/data%20flow%20hw4.png?raw=TRUE)"
      ],
      "metadata": {
        "id": "bthgPSerKt7M"
      }
    },
    {
      "cell_type": "markdown",
      "source": [
        "## Results and Conclusion\n",
        "\n",
        "The two diagrams are listed below in the link. \n",
        "\n",
        "![Data Visualization Example](https://github.com/jimmytheblues/QTM-250-homework-4/blob/main/Tire%20confidence.png?raw=TRUE)\n",
        "\n",
        "![Data Visualization Example](https://github.com/jimmytheblues/QTM-250-homework-4/blob/main/Wheel%20confidence.png?raw=TRUE)\n",
        "\n",
        "\n",
        "For the tire data, we can see that edited photos, which are increased in saturation and vibrance, the confidence score generated by the cloud vision API generally goes lower, except for the yellow car. For the wheel data, three of the photos had higher confidence score after being edited, while two of them had lower confidence scores. Thus, there is no clear evidence whether photoshopping using iphone by increasing the vibrance and saturation of the photos could increase or decrease the confidence score given by the google cloud vision API (affecting the \"realness\" of the photo).\n",
        "\n",
        "One of the reasons for this to happen is that tires are darker in color than wheel. When saturation and vibrance are increased, the darker color does not change too much due to limited light, while the lighter color commits much change. Therefore, the difference between the two colors are greater, and higher vibrance plus saturation makes the vision API think that the photo is \"less real\", so resulting in lower confidence score.\n",
        "\n",
        "In conclusion, no clear evidence shows the change in vibrance and saturation of pictures using iphone photoshop could increase or decrease the \"realness\" of photos. Brightness, color type and other factors could also affect the outcome as well."
      ],
      "metadata": {
        "id": "IYO0akZu-yXa"
      }
    }
  ]
}